{
 "cells": [
  {
   "cell_type": "code",
   "execution_count": 2,
   "id": "ddcf8d9c",
   "metadata": {},
   "outputs": [],
   "source": [
    "import unittest\n",
    "from svm_sentiment_analysis import svm_model, vectorizer "
   ]
  },
  {
   "cell_type": "code",
   "execution_count": null,
   "id": "6fa2cb20",
   "metadata": {},
   "outputs": [],
   "source": [
    "class testmysmv (unittest.TestCase):\n",
    "    def test_pre(self):\n",
    "        sample_text = ['I am okay with anything']\n",
    "        sample_vector = vectorizer.transform(sample_text)\n",
    "        prediction = svm_model.predict(sample_text)\n",
    "        slef.assertIn(prediction[0],[1,0,-1])\n",
    "\n",
    "if __name__ == '__main__':\n",
    "    unittest.main()"
   ]
  },
  {
   "cell_type": "code",
   "execution_count": null,
   "id": "b397b6fe",
   "metadata": {},
   "outputs": [],
   "source": []
  },
  {
   "cell_type": "code",
   "execution_count": null,
   "id": "fdd25b58",
   "metadata": {},
   "outputs": [],
   "source": []
  }
 ],
 "metadata": {
  "kernelspec": {
   "display_name": "Python 3 (ipykernel)",
   "language": "python",
   "name": "python3"
  },
  "language_info": {
   "codemirror_mode": {
    "name": "ipython",
    "version": 3
   },
   "file_extension": ".py",
   "mimetype": "text/x-python",
   "name": "python",
   "nbconvert_exporter": "python",
   "pygments_lexer": "ipython3",
   "version": "3.10.9"
  }
 },
 "nbformat": 4,
 "nbformat_minor": 5
}
